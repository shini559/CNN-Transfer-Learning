{
 "cells": [
  {
   "metadata": {},
   "cell_type": "markdown",
   "source": [
    "## Transfer Learning : classification d’images médicales à partir de modèles pré-entraînés de type CNN.\n",
    "\n",
    "# Contexte du projet\n",
    "\n",
    "Une équipe médicale souhaite tester l’apport de l’intelligence artificielle dans le diagnostic automatisé de la pneumonie à partir de radios thoraciques. Elle a besoin d’un prototype fonctionnel (Proof of Concept) permettant de démontrer la faisabilité d’un système de classification binaire d’images médicales.\n",
    "Le problème posé consiste à réutiliser un modèle de vision par ordinateur pré-entraîné (type CNN) pour l’adapter au contexte médical, sans repartir d’un entraînement complet.\n",
    "Dans une logique de mise en production à moyen terme, il est également attendu de documenter et tracer les expérimentations réalisées. L’usage de MLflow est proposé pour initier cette démarche, en assurant le suivi des performances, la traçabilité des essais et la gestion des versions de modèles dans une perspective MLOps."
   ],
   "id": "b35a3f4a4ecabd07"
  },
  {
   "metadata": {},
   "cell_type": "markdown",
   "source": "# 1. Importer les bibliothèques nécessaires",
   "id": "bd6bf87e4b2bed23"
  },
  {
   "metadata": {
    "ExecuteTime": {
     "end_time": "2025-05-22T07:33:08.378626Z",
     "start_time": "2025-05-22T07:33:08.375806Z"
    }
   },
   "cell_type": "code",
   "source": [
    "import os\n",
    "import pandas as pd\n",
    "import numpy as np\n",
    "import matplotlib.pyplot as plt\n",
    "import seaborn as sns\n",
    "import mlflow\n",
    "import mlflow.keras\n"
   ],
   "id": "a6462f50bf1d8b71",
   "outputs": [],
   "execution_count": 9
  },
  {
   "metadata": {},
   "cell_type": "markdown",
   "source": "# 2. Initialisation de MLflow",
   "id": "c3ac1f5c3e5156cc"
  },
  {
   "metadata": {
    "ExecuteTime": {
     "end_time": "2025-05-22T07:33:11.605966Z",
     "start_time": "2025-05-22T07:33:11.591596Z"
    }
   },
   "cell_type": "code",
   "source": [
    "if not os.path.exists(\"mlruns\"):\n",
    "    os.makedirs('mlruns')\n",
    "mlflow.set_tracking_uri(uri = \"file:./mlruns\")\n",
    "mlflow.set_experiment(\"pneumonia_classification\")"
   ],
   "id": "da8eb8989071a52d",
   "outputs": [
    {
     "name": "stderr",
     "output_type": "stream",
     "text": [
      "2025/05/22 09:33:11 INFO mlflow.tracking.fluent: Experiment with name 'pneumonia_classification' does not exist. Creating a new experiment.\n"
     ]
    },
    {
     "data": {
      "text/plain": [
       "<Experiment: artifact_location='file:///Users/wassim/Desktop/Simplon/Brief/Brief_2/CNN-Transfer-Learning/mlruns/440693512193937605', creation_time=1747899191601, experiment_id='440693512193937605', last_update_time=1747899191601, lifecycle_stage='active', name='pneumonia_classification', tags={}>"
      ]
     },
     "execution_count": 10,
     "metadata": {},
     "output_type": "execute_result"
    }
   ],
   "execution_count": 10
  },
  {
   "metadata": {},
   "cell_type": "markdown",
   "source": "# 3. Préparation des données",
   "id": "4271bf3343bc357b"
  },
  {
   "metadata": {},
   "cell_type": "code",
   "outputs": [],
   "execution_count": null,
   "source": "",
   "id": "43ac491f9e7abcb8"
  }
 ],
 "metadata": {
  "kernelspec": {
   "display_name": "Python 3",
   "language": "python",
   "name": "python3"
  },
  "language_info": {
   "codemirror_mode": {
    "name": "ipython",
    "version": 2
   },
   "file_extension": ".py",
   "mimetype": "text/x-python",
   "name": "python",
   "nbconvert_exporter": "python",
   "pygments_lexer": "ipython2",
   "version": "2.7.6"
  }
 },
 "nbformat": 4,
 "nbformat_minor": 5
}
